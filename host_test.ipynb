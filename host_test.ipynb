{
 "cells": [
  {
   "cell_type": "code",
   "execution_count": 1,
   "id": "dc459286",
   "metadata": {},
   "outputs": [],
   "source": [
    "import requests\n",
    "import re"
   ]
  },
  {
   "cell_type": "code",
   "execution_count": 2,
   "id": "a9a0385e",
   "metadata": {},
   "outputs": [],
   "source": [
    "filelist = ['https://raw.githubusercontent.com/PolishFiltersTeam/KADhosts/master/KADhosts.txt',\n",
    "            'https://raw.githubusercontent.com/FadeMind/hosts.extras/master/add.Spam/hosts',\n",
    "            'https://adaway.org/hosts.txt',\n",
    "            'https://raw.githubusercontent.com/mitchellkrogza/The-Big-List-of-Hacked-Malware-Web-Sites/master/hosts',\n",
    "            'https://raw.githubusercontent.com/anudeepND/blacklist/master/adservers.txt',\n",
    "            'https://pgl.yoyo.org/adservers/serverlist.php?hostformat=hosts&showintro=0&mimetype=plaintext',\n",
    "            'https://raw.githubusercontent.com/FadeMind/hosts.extras/master/UncheckyAds/hosts',\n",
    "            'https://raw.githubusercontent.com/bigdargon/hostsVN/master/hosts',\n",
    "            'https://raw.githubusercontent.com/FadeMind/hosts.extras/master/add.2o7Net/hosts',\n",
    "            'https://raw.githubusercontent.com/crazy-max/WindowsSpyBlocker/master/data/hosts/spy.txt',\n",
    "            'https://hostfiles.frogeye.fr/firstparty-trackers-hosts.txt',\n",
    "            'https://raw.githubusercontent.com/DandelionSprout/adfilt/master/Alternate%20versions%20Anti-Malware%20List/AntiMalwareHosts.txt',\n",
    "            'https://raw.githubusercontent.com/FadeMind/hosts.extras/master/add.Risk/hosts',\n",
    "            'https://zerodot1.gitlab.io/CoinBlockerLists/hosts_browser',\n",
    "            'https://raw.githubusercontent.com/jerryn70/GoodbyeAds/master/Extension/GoodbyeAds-YouTube-AdBlock.txt']"
   ]
  },
  {
   "cell_type": "code",
   "execution_count": 3,
   "id": "20e85af5",
   "metadata": {},
   "outputs": [],
   "source": [
    "def isIP(line):\n",
    "    if re.match(r'[0-9]{1,3}\\.[0-9]{1,3}\\.[0-9]{1,3}\\.[0-9]{1,3}', line):\n",
    "        return True\n",
    "    return False\n",
    "\n",
    "def replaceIP(line):\n",
    "    line = re.sub(r'[0-9]{1,3}\\.[0-9]{1,3}\\.[0-9]{1,3}\\.[0-9]{1,3}', '127.0.0.1', line,count=1)\n",
    "    return line"
   ]
  },
  {
   "cell_type": "code",
   "execution_count": null,
   "id": "1685daac",
   "metadata": {},
   "outputs": [],
   "source": [
    "headers = {\n",
    "  'User-Agent': 'Mozilla/5.0 (Windows NT 10.0; rv:91.0) Gecko/20100101 Firefox/91.0'\n",
    "}\n",
    "\n",
    "banned = []\n",
    "for i in filelist:\n",
    "    x = requests.get(i,headers=headers)\n",
    "    lines = x.text.split(\"\\n\")\n",
    "    for i in lines:\n",
    "        if isIP(i):\n",
    "            banned.append(replaceIP(i))"
   ]
  },
  {
   "cell_type": "code",
   "execution_count": 5,
   "id": "25e6fcc0",
   "metadata": {},
   "outputs": [],
   "source": []
  },
  {
   "cell_type": "code",
   "execution_count": 45,
   "id": "327b0e32",
   "metadata": {},
   "outputs": [],
   "source": []
  },
  {
   "cell_type": "code",
   "execution_count": null,
   "id": "df3ba07c",
   "metadata": {},
   "outputs": [],
   "source": [
    "len(banned)"
   ]
  },
  {
   "cell_type": "code",
   "execution_count": 62,
   "id": "bed6fad2",
   "metadata": {},
   "outputs": [
    {
     "data": {
      "text/plain": [
       "'127.0.0.1 4ksport.pl'"
      ]
     },
     "execution_count": 62,
     "metadata": {},
     "output_type": "execute_result"
    }
   ],
   "source": []
  },
  {
   "cell_type": "code",
   "execution_count": null,
   "id": "29939805",
   "metadata": {},
   "outputs": [],
   "source": []
  },
  {
   "cell_type": "code",
   "execution_count": null,
   "id": "f1f09f62",
   "metadata": {},
   "outputs": [],
   "source": []
  },
  {
   "cell_type": "code",
   "execution_count": 7,
   "id": "bcae9894",
   "metadata": {},
   "outputs": [],
   "source": [
    "with open(\"C:\\Windows\\System32\\drivers\\etc\\hosts\", 'a') as file1:\n",
    "    for i in banned:\n",
    "        file1.write(i + '\\n')"
   ]
  },
  {
   "cell_type": "code",
   "execution_count": 2,
   "id": "32913843",
   "metadata": {},
   "outputs": [
    {
     "ename": "PermissionError",
     "evalue": "[Errno 13] Permission denied: 'C:\\\\Windows\\\\System32\\\\drivers\\\\etc\\\\hosts'",
     "output_type": "error",
     "traceback": [
      "\u001b[1;31m---------------------------------------------------------------------------\u001b[0m",
      "\u001b[1;31mPermissionError\u001b[0m                           Traceback (most recent call last)",
      "\u001b[1;32m~\\AppData\\Local\\Temp\\ipykernel_3032\\3859382399.py\u001b[0m in \u001b[0;36m<module>\u001b[1;34m\u001b[0m\n\u001b[1;32m----> 1\u001b[1;33m \u001b[1;32mwith\u001b[0m \u001b[0mopen\u001b[0m\u001b[1;33m(\u001b[0m\u001b[1;34m\"C:\\Windows\\System32\\drivers\\etc\\hosts\"\u001b[0m\u001b[1;33m,\u001b[0m \u001b[1;34m'w'\u001b[0m\u001b[1;33m)\u001b[0m \u001b[1;32mas\u001b[0m \u001b[0mfile1\u001b[0m\u001b[1;33m:\u001b[0m\u001b[1;33m\u001b[0m\u001b[1;33m\u001b[0m\u001b[0m\n\u001b[0m\u001b[0;32m      2\u001b[0m     \u001b[0mfile1\u001b[0m\u001b[1;33m.\u001b[0m\u001b[0mwrite\u001b[0m\u001b[1;33m(\u001b[0m\u001b[1;34m'\\n'\u001b[0m\u001b[1;33m)\u001b[0m\u001b[1;33m\u001b[0m\u001b[1;33m\u001b[0m\u001b[0m\n",
      "\u001b[1;31mPermissionError\u001b[0m: [Errno 13] Permission denied: 'C:\\\\Windows\\\\System32\\\\drivers\\\\etc\\\\hosts'"
     ]
    }
   ],
   "source": [
    "with open(\"C:\\Windows\\System32\\drivers\\etc\\hosts\", 'w') as file1:\n",
    "    file1.write('\\n')"
   ]
  },
  {
   "cell_type": "code",
   "execution_count": null,
   "id": "ef06e579",
   "metadata": {},
   "outputs": [],
   "source": []
  },
  {
   "cell_type": "code",
   "execution_count": null,
   "id": "4ca1cb1e",
   "metadata": {},
   "outputs": [],
   "source": []
  }
 ],
 "metadata": {
  "kernelspec": {
   "display_name": "Python 3 (ipykernel)",
   "language": "python",
   "name": "python3"
  },
  "language_info": {
   "codemirror_mode": {
    "name": "ipython",
    "version": 3
   },
   "file_extension": ".py",
   "mimetype": "text/x-python",
   "name": "python",
   "nbconvert_exporter": "python",
   "pygments_lexer": "ipython3",
   "version": "3.9.13"
  }
 },
 "nbformat": 4,
 "nbformat_minor": 5
}
